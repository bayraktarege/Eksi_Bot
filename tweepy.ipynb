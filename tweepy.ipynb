{
 "cells": [
  {
   "cell_type": "code",
   "execution_count": 1,
   "id": "6d61c80b",
   "metadata": {},
   "outputs": [],
   "source": [
    "from selenium import webdriver\n",
    "from selenium.webdriver.common.keys import Keys\n",
    "from selenium.webdriver.common.by import By\n",
    "import os\n",
    "import re\n",
    "import time\n",
    "import plotly\n",
    "import random\n",
    "import tweepy\n",
    "import telebot\n"
   ]
  },
  {
   "cell_type": "code",
   "execution_count": 2,
   "id": "b0be8d55",
   "metadata": {},
   "outputs": [],
   "source": [
    "class EksiBot():\n",
    "    \n",
    "    def __init__(self):\n",
    "        os.environ[\"SELENIUM_SERVER_JAR\"] = \"selenium-server-standalone-2.41.0.jar\"\n",
    "        # note: I've put this jar file in the same folder as this python file\n",
    "\n",
    "        self.driver = webdriver.Safari()\n",
    "\n",
    "        # makes the browser wait if it can't find an element\n",
    "        self.driver.implicitly_wait(5)\n",
    "    \n",
    "    def get_home_page(self):\n",
    "        self.driver.get(\"https://eksisozluk1923.com\")\n",
    "        self.driver.implicitly_wait(5)\n",
    "        \n",
    "    def get_topics(self):\n",
    "        \n",
    "        topics_3 = self.driver.find_element(By.ID, \"partial-index\")\n",
    "        self.topics_list = topics_3.text.split(\"\\n\\n\\n \")\n",
    "        self.topics_list_clean = []\n",
    "        self.numbers = []\n",
    "        for item in self.topics_list:\n",
    "            if item == self.topics_list[2]:\n",
    "                try:\n",
    "                    number = re.search(r'\\d+$', item.split(\"\\n\\n \")[1])\n",
    "                    num = len(number.group(0))\n",
    "                    self.numbers.append(num)\n",
    "                    self.topics_list_clean.append(item.split(\"\\n\\n \")[1][:-(num+1)])\n",
    "                except AttributeError:\n",
    "                    continue\n",
    "\n",
    "            else:\n",
    "                try:\n",
    "                    number = re.search(r'\\d+$', item.split(\"\\n\\n\")[0])\n",
    "                    num = len(number.group(0))\n",
    "                    self.numbers.append(num)\n",
    "                    self.topics_list_clean.append(item.split(\"\\n\\n\")[0][:-(num+1)])\n",
    "\n",
    "                except AttributeError:\n",
    "                    continue\n",
    "\n",
    "                except:\n",
    "\n",
    "                    number = re.search(r'\\d+$', item)\n",
    "                    num = len(number.group(0))\n",
    "                    self.numbers.append(num)\n",
    "                    self.topics_list_clean.append(item.split(\"\\n\\n\")[0][:-(num+1)])\n",
    "                    \n",
    "        self.driver.implicitly_wait(5)\n",
    "        return self.topics_list_clean            \n",
    "    \n",
    "    def get_topic(self, topic):\n",
    "        \n",
    "        \n",
    "        self.driver.find_element(By.ID, \"search-textbox\").send_keys(topic + Keys.ENTER)\n",
    "        #self.driver.find_element(By.CLASS_NAME, \"last\").click()\n",
    "        time.sleep(1)\n",
    "        \n",
    "    def get_last(self):\n",
    "        \n",
    "        time.sleep(1)\n",
    "        self.driver.find_element(By.CLASS_NAME, \"last\").click()\n",
    "        \n",
    "    def get_content(self):\n",
    "        \n",
    "        time.sleep(1)\n",
    "        self.entries = self.driver.find_elements(By.CLASS_NAME, \"content\")\n",
    "        \n",
    "        self.entries_dict_clean = {}\n",
    "        for i in range(len(self.entries)):\n",
    "            entry = self.entries[i].text.split(\"\\n   \")[1]\n",
    "            self.entries_dict_clean[entry]=len(entry)\n",
    "\n",
    "\n",
    "        return self.entries_dict_clean\n",
    "    \n",
    "    def iterate_over(self):\n",
    "        \n",
    "        self.all = {}\n",
    "        topics = self.get_topics()\n",
    "        for topic in topics:\n",
    "            time.sleep(5)\n",
    "            self.get_topic(topic)\n",
    "            self.get_last(topic)\n",
    "            content = self.get_content()\n",
    "            self.all[topic]=content\n",
    "            \n",
    "        return self.all\n",
    "        \n",
    "        \n",
    "        \n",
    "    \n",
    "    "
   ]
  },
  {
   "cell_type": "code",
   "execution_count": 3,
   "id": "9eddbe4a",
   "metadata": {},
   "outputs": [],
   "source": [
    "driver = EksiBot()\n",
    "driver.get_home_page()\n"
   ]
  },
  {
   "cell_type": "code",
   "execution_count": 4,
   "id": "5624bd11",
   "metadata": {},
   "outputs": [
    {
     "data": {
      "text/plain": [
       "[\" ankara bala'daki trafik kazasının görüntüleri\",\n",
       " \" gelecek partili 3 mv'nin ak parti'ye geçme kararı\",\n",
       " \" 9 eylül 2023 fenerbahçe'nin atatürk stadı kararı\",\n",
       " \" duygu özaslan'dan ilişki tavsiyesi\",\n",
       " \" a101'de satılan her şeyi yiyen çocuk kitabı\",\n",
       " ' milli takıma teknik direktör tavsiyesi',\n",
       " ' seksin altın kuralı',\n",
       " ' 9 eylül 2023 sezgin tanrıkulu açıklaması',\n",
       " ' onca zorluğun arasında mağaraya resim yapan tip',\n",
       " ' eylülde tatile çıkan insan',\n",
       " ' klasik rus romanlarındaki 5 senedir giyilen palto',\n",
       " ' kemalizmin çağ dışı bir ideoloji olduğu gerçeği',\n",
       " ' arabasızlığın çok süper olması',\n",
       " ' beyne kazınmış biyoloji terimleri',\n",
       " ' emel sayın denince akla gelenler',\n",
       " ' menzilcilerin fantastik tövbe seansı',\n",
       " \" kıvanç tatlıtuğ'un estetik yaptırması\",\n",
       " ' dedeler tarafından kaçırılan yatırım fırsatları',\n",
       " ' cengiz ünder',\n",
       " ' ilişki durumunu bir doğa olayı ile anlatmak',\n",
       " \" youtube'daki tamir videolarının işe yaramaması\",\n",
       " \" abdullah avcı'nın milli takımın başına geçmesi\",\n",
       " ' açık seçik giyinmiş sevgiliyle utanmadan gezmek',\n",
       " \" izmir'in çok kötü kokması\",\n",
       " ' risale-i nur okumanın huzur verdiği gerçeği',\n",
       " ' barış alper yılmaz',\n",
       " \" getir'in değerinin 18 ayda yaklaşık %80 erimesi\",\n",
       " ' emekli maaşı yetmediği için huzurevi arayan amca',\n",
       " ' akp seçmeninin yavaş yavaş uyanmaya başlaması',\n",
       " ' muhammed kerem aktürkoğlu',\n",
       " ' bitti diyen kıza sen bilirsin diyen erkek',\n",
       " ' emlak balonu',\n",
       " \" kkm'nin merkez bankası'na maliyeti sıfırdır\",\n",
       " ' karısını aldatanların mantıklı mazeretleri',\n",
       " \" 13 eylül 1974 hakim sefa mutlu'nun katledilmesi\",\n",
       " ' eda erdem',\n",
       " ' abdülkerim bardakçı',\n",
       " \" eda erdem'in heykelinin dikilmesi\",\n",
       " ' en çok çalışmak istenilen firma',\n",
       " \" brezilya'daki ekonomik motosiklet kazası\",\n",
       " ' a milli futbol takımına alternatif isimler',\n",
       " ' atatürk olmasa da kurtuluş savaşı olacağı gerçeği',\n",
       " \" şeyma subaşı'nın kitabının 5 tl'ye düşmesi\",\n",
       " ' kuzen evliliği',\n",
       " ' epilepsi hastasına bakmayan saldırgan doktor',\n",
       " ' katlanılamayan insanlar',\n",
       " ' soyadında oğlu olanlar',\n",
       " ' bertuğ özgür yıldırım']"
      ]
     },
     "execution_count": 4,
     "metadata": {},
     "output_type": "execute_result"
    }
   ],
   "source": [
    "topics = driver.get_topics()\n",
    "result = '\\n'.join([f'{index}: {string}' for index, string in enumerate(topics)])\n",
    "topics\n"
   ]
  },
  {
   "cell_type": "code",
   "execution_count": 5,
   "id": "ab00c063",
   "metadata": {},
   "outputs": [],
   "source": [
    "with open(\"new_topics.txt\", mode=\"r+\") as file:\n",
    "    \n",
    "    old_topics = file.readlines()\n",
    "\n",
    "    for topic in topics:\n",
    "        if not topic in old_topics:\n",
    "            file.write(topic+\"\\n\")\n",
    "        else:\n",
    "            continue\n"
   ]
  },
  {
   "cell_type": "raw",
   "id": "9cb81b7c",
   "metadata": {},
   "source": [
    "with open(\"new_topics.txt\", mode=\"a+\") as fil:\n",
    "    \n",
    "    for topic in set(old_topics):\n",
    "        fil.write(topic)"
   ]
  },
  {
   "cell_type": "raw",
   "id": "74640029",
   "metadata": {},
   "source": [
    "old_topics"
   ]
  },
  {
   "cell_type": "code",
   "execution_count": 6,
   "id": "cf88cb84",
   "metadata": {
    "scrolled": true
   },
   "outputs": [],
   "source": [
    "# Twitter API credentials\n",
    "consumer_key = \"\" # api key\n",
    "consumer_secret = \"\" # api key\n",
    "access_token = \"\"\n",
    "access_token_secret = \"\"\n",
    "bearer_token = \"\"\n",
    "\n",
    "# Authenticate with Twitter\n",
    "auth = tweepy.OAuthHandler(consumer_key, consumer_secret)\n",
    "auth.set_access_token(access_token, access_token_secret)\n",
    "\n",
    "# Create an API object\n",
    "api = tweepy.API(auth)\n"
   ]
  },
  {
   "cell_type": "code",
   "execution_count": 7,
   "id": "8a44dc2f",
   "metadata": {},
   "outputs": [],
   "source": [
    "client = tweepy.Client(bearer_token, consumer_key, consumer_secret, access_token, access_token_secret)"
   ]
  },
  {
   "cell_type": "code",
   "execution_count": 8,
   "id": "6cd2767d",
   "metadata": {},
   "outputs": [],
   "source": [
    "BOT_TOKEN=\"\""
   ]
  },
  {
   "cell_type": "code",
   "execution_count": 9,
   "id": "c619c682",
   "metadata": {},
   "outputs": [
    {
     "data": {
      "text/plain": [
       "<telebot.types.Message at 0x112cd57d0>"
      ]
     },
     "execution_count": 9,
     "metadata": {},
     "output_type": "execute_result"
    }
   ],
   "source": [
    "bot = telebot.TeleBot(BOT_TOKEN)\n",
    "bot.send_message(\"@eksi_bott\", result)\n"
   ]
  },
  {
   "cell_type": "code",
   "execution_count": 10,
   "id": "33a38b63",
   "metadata": {},
   "outputs": [
    {
     "name": "stdout",
     "output_type": "stream",
     "text": [
      "2\n",
      "5\n",
      "2\n",
      "3\n",
      "5\n",
      " a101'de satılan her şeyi yiyen çocuk kitabı\n",
      "10\n",
      " milli takıma teknik direktör tavsiyesi\n",
      " seksin altın kuralıreklam\n",
      " 9 eylül 2023 sezgin tanrıkulu açıklamasıreklam\n",
      " onca zorluğun arasında mağaraya resim yapan tipreklam\n",
      " eylülde tatile çıkan insanreklam\n",
      " klasik rus romanlarındaki 5 senedir giyilen paltoreklam\n",
      " kemalizmin çağ dışı bir ideoloji olduğu gerçeğireklam\n",
      " arabasızlığın çok süper olmasıreklam\n",
      " beyne kazınmış biyoloji terimlerireklam\n",
      " emel sayın denince akla gelenlerreklam\n",
      " menzilcilerin fantastik tövbe seansıreklam\n",
      " kıvanç tatlıtuğ'un estetik yaptırmasıreklam\n",
      " dedeler tarafından kaçırılan yatırım fırsatlarıreklam\n",
      " cengiz ünderreklam\n",
      " ilişki durumunu bir doğa olayı ile anlatmakreklam\n",
      " youtube'daki tamir videolarının işe yaramamasıreklam\n",
      " abdullah avcı'nın milli takımın başına geçmesireklam\n",
      " açık seçik giyinmiş sevgiliyle utanmadan gezmekreklam\n",
      " izmir'in çok kötü kokmasıreklam\n",
      " risale-i nur okumanın huzur verdiği gerçeğireklam\n",
      " barış alper yılmazreklam\n",
      " getir'in değerinin 18 ayda yaklaşık %80 erimesireklam\n",
      " emekli maaşı yetmediği için huzurevi arayan amcareklam\n",
      " akp seçmeninin yavaş yavaş uyanmaya başlamasıreklam\n",
      " muhammed kerem aktürkoğlureklam\n",
      " bitti diyen kıza sen bilirsin diyen erkekreklam\n",
      " emlak balonureklam\n",
      " kkm'nin merkez bankası'na maliyeti sıfırdırreklam\n",
      " karısını aldatanların mantıklı mazeretlerireklam\n",
      " 13 eylül 1974 hakim sefa mutlu'nun katledilmesireklam\n",
      " eda erdemreklam\n",
      " abdülkerim bardakçıreklam\n",
      " eda erdem'in heykelinin dikilmesireklam\n",
      " en çok çalışmak istenilen firmareklam\n",
      " brezilya'daki ekonomik motosiklet kazasıreklam\n",
      " a milli futbol takımına alternatif isimlerreklam\n",
      " atatürk olmasa da kurtuluş savaşı olacağı gerçeğireklam\n",
      " şeyma subaşı'nın kitabının 5 tl'ye düşmesireklam\n",
      " kuzen evliliğireklam\n",
      " epilepsi hastasına bakmayan saldırgan doktorreklam\n",
      " katlanılamayan insanlarreklam\n",
      " soyadında oğlu olanlarreklam\n",
      " bertuğ özgür yıldırımreklam\n"
     ]
    }
   ],
   "source": [
    "unposted = []\n",
    "with open(\"tweets.txt\", mode=\"a+\") as file:\n",
    "    \n",
    "    for topic in topics:\n",
    "        try:\n",
    "            driver.get_topic(topic)\n",
    "            driver.get_last()\n",
    "            content = driver.get_content()\n",
    "            postable = []\n",
    "            for key, value in content.items():\n",
    "\n",
    "                if len(topic+\":\\n\\n\"+key[1:]) <= 280:\n",
    "                    postable.append(topic+\":\\n\\n\"+key[1:])\n",
    "            print(len(postable))\n",
    "            try:\n",
    "                rand = random.randint(0, len(postable))\n",
    "                time.sleep(5)\n",
    "                client.create_tweet(text=postable[rand])\n",
    "                file.write(postable[rand][1:])\n",
    "                bot.send_message(\"@eksi_bott\", postable[rand])\n",
    "\n",
    "            except:\n",
    "                unposted.append(topic)\n",
    "                print(topic)\n",
    "        except:\n",
    "            unposted.append(topic)\n",
    "            print(topic+\"reklam\")\n",
    "        "
   ]
  },
  {
   "cell_type": "code",
   "execution_count": 11,
   "id": "f96f1d7e",
   "metadata": {},
   "outputs": [],
   "source": [
    "def share_singular_topic(topic):\n",
    "    try:\n",
    "        driver.get_topic(topic)\n",
    "        driver.get_last()\n",
    "        content = driver.get_content()\n",
    "        postable = []\n",
    "        for key, value in content.items():\n",
    "\n",
    "            if len(topic+\":\\n\\n\"+key[1:]) <= 280:\n",
    "                postable.append(topic+\":\\n\\n\"+key[1:])\n",
    "        print(len(postable))\n",
    "        try:\n",
    "            rand = random.randint(0, len(postable))\n",
    "            api.update_status(postable[rand])\n",
    "            bot.send_message(\"@eksi_bott\", postable[rand])\n",
    "\n",
    "        except:\n",
    "            print(topic)\n",
    "    except:\n",
    "        print(topic+\"reklam\")\n",
    "        "
   ]
  },
  {
   "cell_type": "code",
   "execution_count": 12,
   "id": "baf19d5c",
   "metadata": {},
   "outputs": [],
   "source": [
    "#share_singular_topic(\"lise arkadaşlarıyla şimdiki ilişki durumu\")\n"
   ]
  },
  {
   "cell_type": "code",
   "execution_count": 13,
   "id": "412eee00",
   "metadata": {},
   "outputs": [],
   "source": [
    "def share_selected_entry(topic):\n",
    "    driver.get_topic(topic)\n",
    "    driver.get_last()\n",
    "    content = driver.get_content()\n",
    "    postable = []\n",
    "    for key, value in content.items():\n",
    "\n",
    "        if len(topic+\":\\n\\n\"+key[1:]) <= 280:\n",
    "            postable.append(topic+\":\\n\\n\"+key[1:])\n",
    "    if len(postable) == 0:\n",
    "        return\n",
    "    print('\\n'.join([f'{index}: {string}' for index, string in enumerate(postable)]))\n",
    "    rand = int(input(\"Bir entry seçin: \"))\n",
    "    if rand == 13:\n",
    "        return\n",
    "    client.create_tweet(text=postable[rand])\n",
    "    bot.send_message(\"@eksi_bott\", postable[rand])\n"
   ]
  },
  {
   "cell_type": "code",
   "execution_count": 14,
   "id": "d92f6bf2",
   "metadata": {},
   "outputs": [
    {
     "ename": "InvalidSessionIdException",
     "evalue": "Message: \n",
     "output_type": "error",
     "traceback": [
      "\u001b[0;31m---------------------------------------------------------------------------\u001b[0m",
      "\u001b[0;31mInvalidSessionIdException\u001b[0m                 Traceback (most recent call last)",
      "Cell \u001b[0;32mIn[14], line 2\u001b[0m\n\u001b[1;32m      1\u001b[0m \u001b[38;5;28;01mfor\u001b[39;00m topic \u001b[38;5;129;01min\u001b[39;00m unposted:\n\u001b[0;32m----> 2\u001b[0m     \u001b[43mshare_selected_entry\u001b[49m\u001b[43m(\u001b[49m\u001b[43mtopic\u001b[49m\u001b[43m)\u001b[49m\n",
      "Cell \u001b[0;32mIn[13], line 2\u001b[0m, in \u001b[0;36mshare_selected_entry\u001b[0;34m(topic)\u001b[0m\n\u001b[1;32m      1\u001b[0m \u001b[38;5;28;01mdef\u001b[39;00m \u001b[38;5;21mshare_selected_entry\u001b[39m(topic):\n\u001b[0;32m----> 2\u001b[0m     \u001b[43mdriver\u001b[49m\u001b[38;5;241;43m.\u001b[39;49m\u001b[43mget_topic\u001b[49m\u001b[43m(\u001b[49m\u001b[43mtopic\u001b[49m\u001b[43m)\u001b[49m\n\u001b[1;32m      3\u001b[0m     driver\u001b[38;5;241m.\u001b[39mget_last()\n\u001b[1;32m      4\u001b[0m     content \u001b[38;5;241m=\u001b[39m driver\u001b[38;5;241m.\u001b[39mget_content()\n",
      "Cell \u001b[0;32mIn[2], line 55\u001b[0m, in \u001b[0;36mEksiBot.get_topic\u001b[0;34m(self, topic)\u001b[0m\n\u001b[1;32m     52\u001b[0m \u001b[38;5;28;01mdef\u001b[39;00m \u001b[38;5;21mget_topic\u001b[39m(\u001b[38;5;28mself\u001b[39m, topic):\n\u001b[0;32m---> 55\u001b[0m     \u001b[38;5;28;43mself\u001b[39;49m\u001b[38;5;241;43m.\u001b[39;49m\u001b[43mdriver\u001b[49m\u001b[38;5;241;43m.\u001b[39;49m\u001b[43mfind_element\u001b[49m\u001b[43m(\u001b[49m\u001b[43mBy\u001b[49m\u001b[38;5;241;43m.\u001b[39;49m\u001b[43mID\u001b[49m\u001b[43m,\u001b[49m\u001b[43m \u001b[49m\u001b[38;5;124;43m\"\u001b[39;49m\u001b[38;5;124;43msearch-textbox\u001b[39;49m\u001b[38;5;124;43m\"\u001b[39;49m\u001b[43m)\u001b[49m\u001b[38;5;241m.\u001b[39msend_keys(topic \u001b[38;5;241m+\u001b[39m Keys\u001b[38;5;241m.\u001b[39mENTER)\n\u001b[1;32m     56\u001b[0m     \u001b[38;5;66;03m#self.driver.find_element(By.CLASS_NAME, \"last\").click()\u001b[39;00m\n\u001b[1;32m     57\u001b[0m     time\u001b[38;5;241m.\u001b[39msleep(\u001b[38;5;241m1\u001b[39m)\n",
      "File \u001b[0;32m~/opt/anaconda3/envs/WhatsApp_Robot/lib/python3.11/site-packages/selenium/webdriver/remote/webdriver.py:740\u001b[0m, in \u001b[0;36mWebDriver.find_element\u001b[0;34m(self, by, value)\u001b[0m\n\u001b[1;32m    737\u001b[0m     by \u001b[38;5;241m=\u001b[39m By\u001b[38;5;241m.\u001b[39mCSS_SELECTOR\n\u001b[1;32m    738\u001b[0m     value \u001b[38;5;241m=\u001b[39m \u001b[38;5;124mf\u001b[39m\u001b[38;5;124m'\u001b[39m\u001b[38;5;124m[name=\u001b[39m\u001b[38;5;124m\"\u001b[39m\u001b[38;5;132;01m{\u001b[39;00mvalue\u001b[38;5;132;01m}\u001b[39;00m\u001b[38;5;124m\"\u001b[39m\u001b[38;5;124m]\u001b[39m\u001b[38;5;124m'\u001b[39m\n\u001b[0;32m--> 740\u001b[0m \u001b[38;5;28;01mreturn\u001b[39;00m \u001b[38;5;28;43mself\u001b[39;49m\u001b[38;5;241;43m.\u001b[39;49m\u001b[43mexecute\u001b[49m\u001b[43m(\u001b[49m\u001b[43mCommand\u001b[49m\u001b[38;5;241;43m.\u001b[39;49m\u001b[43mFIND_ELEMENT\u001b[49m\u001b[43m,\u001b[49m\u001b[43m \u001b[49m\u001b[43m{\u001b[49m\u001b[38;5;124;43m\"\u001b[39;49m\u001b[38;5;124;43musing\u001b[39;49m\u001b[38;5;124;43m\"\u001b[39;49m\u001b[43m:\u001b[49m\u001b[43m \u001b[49m\u001b[43mby\u001b[49m\u001b[43m,\u001b[49m\u001b[43m \u001b[49m\u001b[38;5;124;43m\"\u001b[39;49m\u001b[38;5;124;43mvalue\u001b[39;49m\u001b[38;5;124;43m\"\u001b[39;49m\u001b[43m:\u001b[49m\u001b[43m \u001b[49m\u001b[43mvalue\u001b[49m\u001b[43m}\u001b[49m\u001b[43m)\u001b[49m[\u001b[38;5;124m\"\u001b[39m\u001b[38;5;124mvalue\u001b[39m\u001b[38;5;124m\"\u001b[39m]\n",
      "File \u001b[0;32m~/opt/anaconda3/envs/WhatsApp_Robot/lib/python3.11/site-packages/selenium/webdriver/remote/webdriver.py:346\u001b[0m, in \u001b[0;36mWebDriver.execute\u001b[0;34m(self, driver_command, params)\u001b[0m\n\u001b[1;32m    344\u001b[0m response \u001b[38;5;241m=\u001b[39m \u001b[38;5;28mself\u001b[39m\u001b[38;5;241m.\u001b[39mcommand_executor\u001b[38;5;241m.\u001b[39mexecute(driver_command, params)\n\u001b[1;32m    345\u001b[0m \u001b[38;5;28;01mif\u001b[39;00m response:\n\u001b[0;32m--> 346\u001b[0m     \u001b[38;5;28;43mself\u001b[39;49m\u001b[38;5;241;43m.\u001b[39;49m\u001b[43merror_handler\u001b[49m\u001b[38;5;241;43m.\u001b[39;49m\u001b[43mcheck_response\u001b[49m\u001b[43m(\u001b[49m\u001b[43mresponse\u001b[49m\u001b[43m)\u001b[49m\n\u001b[1;32m    347\u001b[0m     response[\u001b[38;5;124m\"\u001b[39m\u001b[38;5;124mvalue\u001b[39m\u001b[38;5;124m\"\u001b[39m] \u001b[38;5;241m=\u001b[39m \u001b[38;5;28mself\u001b[39m\u001b[38;5;241m.\u001b[39m_unwrap_value(response\u001b[38;5;241m.\u001b[39mget(\u001b[38;5;124m\"\u001b[39m\u001b[38;5;124mvalue\u001b[39m\u001b[38;5;124m\"\u001b[39m, \u001b[38;5;28;01mNone\u001b[39;00m))\n\u001b[1;32m    348\u001b[0m     \u001b[38;5;28;01mreturn\u001b[39;00m response\n",
      "File \u001b[0;32m~/opt/anaconda3/envs/WhatsApp_Robot/lib/python3.11/site-packages/selenium/webdriver/remote/errorhandler.py:245\u001b[0m, in \u001b[0;36mErrorHandler.check_response\u001b[0;34m(self, response)\u001b[0m\n\u001b[1;32m    243\u001b[0m         alert_text \u001b[38;5;241m=\u001b[39m value[\u001b[38;5;124m\"\u001b[39m\u001b[38;5;124malert\u001b[39m\u001b[38;5;124m\"\u001b[39m]\u001b[38;5;241m.\u001b[39mget(\u001b[38;5;124m\"\u001b[39m\u001b[38;5;124mtext\u001b[39m\u001b[38;5;124m\"\u001b[39m)\n\u001b[1;32m    244\u001b[0m     \u001b[38;5;28;01mraise\u001b[39;00m exception_class(message, screen, stacktrace, alert_text)  \u001b[38;5;66;03m# type: ignore[call-arg]  # mypy is not smart enough here\u001b[39;00m\n\u001b[0;32m--> 245\u001b[0m \u001b[38;5;28;01mraise\u001b[39;00m exception_class(message, screen, stacktrace)\n",
      "\u001b[0;31mInvalidSessionIdException\u001b[0m: Message: \n"
     ]
    }
   ],
   "source": [
    "for topic in unposted:\n",
    "    share_selected_entry(topic)"
   ]
  },
  {
   "cell_type": "code",
   "execution_count": null,
   "id": "59060903",
   "metadata": {},
   "outputs": [],
   "source": []
  }
 ],
 "metadata": {
  "kernelspec": {
   "display_name": "Python 3 (ipykernel)",
   "language": "python",
   "name": "python3"
  },
  "language_info": {
   "codemirror_mode": {
    "name": "ipython",
    "version": 3
   },
   "file_extension": ".py",
   "mimetype": "text/x-python",
   "name": "python",
   "nbconvert_exporter": "python",
   "pygments_lexer": "ipython3",
   "version": "3.11.4"
  }
 },
 "nbformat": 4,
 "nbformat_minor": 5
}
